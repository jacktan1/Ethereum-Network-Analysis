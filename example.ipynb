{
 "cells": [
  {
   "cell_type": "code",
   "execution_count": 1,
   "metadata": {
    "collapsed": true,
    "pycharm": {
     "name": "#%%\n"
    }
   },
   "outputs": [],
   "source": [
    "import json\n",
    "from src import DiscSess, NodeFun"
   ]
  },
  {
   "cell_type": "markdown",
   "source": [
    "# Varaiables"
   ],
   "metadata": {
    "collapsed": false,
    "pycharm": {
     "name": "#%% md\n"
    }
   }
  },
  {
   "cell_type": "code",
   "execution_count": 2,
   "outputs": [],
   "source": [
    "with open(\"keys/nodekey.json\", \"r\") as file:\n",
    "    data = json.load(file)\n",
    "    prv_key_hex = data[\"private\"]\n",
    "    pub_key_hex = data[\"public\"]\n",
    "\n",
    "# Local IP and port settings\n",
    "ip_str = \"127.0.0.1\"\n",
    "port_udp = 30303\n",
    "port_tcp = 0\n",
    "\n",
    "# NodeFun settings\n",
    "version = 4\n",
    "\n",
    "# Bootstrap node settings\n",
    "dst_ip_str = \"51.38.53.111\"\n",
    "dst_port_udp = 30303\n",
    "dst_port_tcp = 0"
   ],
   "metadata": {
    "collapsed": false,
    "pycharm": {
     "name": "#%%\n"
    }
   }
  },
  {
   "cell_type": "markdown",
   "source": [
    "# Start Session"
   ],
   "metadata": {
    "collapsed": false,
    "pycharm": {
     "name": "#%% md\n"
    }
   }
  },
  {
   "cell_type": "code",
   "execution_count": 3,
   "outputs": [],
   "source": [
    "my_node = NodeFun(pub_key_hex, prv_key_hex, ip_str, port_udp, port_tcp, version)\n",
    "\n",
    "my_session = DiscSess(my_node, port_udp)"
   ],
   "metadata": {
    "collapsed": false,
    "pycharm": {
     "name": "#%%\n"
    }
   }
  },
  {
   "cell_type": "markdown",
   "source": [
    "# Ping -> Get ENR -> Get Neighbors"
   ],
   "metadata": {
    "collapsed": false,
    "pycharm": {
     "name": "#%% md\n"
    }
   }
  },
  {
   "cell_type": "code",
   "execution_count": 4,
   "outputs": [
    {
     "name": "stdout",
     "output_type": "stream",
     "text": [
      "INFO - Sent PING to 51.38.53.111:30303\n",
      "INFO - Retrieved 1 PONG packet(s) from 51.38.53.111:30303\n",
      "INFO - Added 51.38.53.111:30303 to routing table\n",
      "INFO - Sent ENR_REQUEST to 51.38.53.111:30303\n",
      "INFO - Retrieved 1 ENR_RESPONSE packet(s) from 51.38.53.111:30303\n",
      "INFO - Added Node ID and enode for 51.38.53.111:30303\n",
      "INFO - Sent FIND_NODE to 51.38.53.111:30303\n",
      "INFO - Retrieved 2 NEIGHBORS packet(s) from 51.38.53.111:30303\n",
      "INFO - Sent PING to 94.198.43.106:57000\n",
      "INFO - Retrieved 1 PONG packet(s) from 94.198.43.106:57000\n",
      "INFO - Added 94.198.43.106:57000 to routing table\n",
      "INFO - Sent ENR_REQUEST to 94.198.43.106:57000\n",
      "INFO - Retrieved 1 ENR_RESPONSE packet(s) from 94.198.43.106:57000\n",
      "INFO - Added Node ID and enode for 94.198.43.106:57000\n",
      "INFO - Sent PING to 18.119.84.234:30311\n",
      "WARNING - Unable to retrieve 1 PONG packet(s) from 18.119.84.234:30311. Waited ~5 seconds\n",
      "INFO - Sent PING to 3.237.4.61:30303\n",
      "INFO - Received PING from 3.237.4.61:30303\n",
      "INFO - Sent PONG to 3.237.4.61:30303\n",
      "INFO - Retrieved 1 PONG packet(s) from 3.237.4.61:30303\n",
      "INFO - Added 3.237.4.61:30303 to routing table\n",
      "INFO - Sent ENR_REQUEST to 3.237.4.61:30303\n",
      "INFO - Retrieved 1 ENR_RESPONSE packet(s) from 3.237.4.61:30303\n",
      "INFO - Added Node ID and enode for 3.237.4.61:30303\n",
      "INFO - Sent PING to 178.62.81.59:30300\n",
      "INFO - Retrieved 1 PONG packet(s) from 178.62.81.59:30300\n",
      "INFO - Added 178.62.81.59:30300 to routing table\n",
      "INFO - Sent ENR_REQUEST to 178.62.81.59:30300\n",
      "INFO - Retrieved 1 ENR_RESPONSE packet(s) from 178.62.81.59:30300\n",
      "INFO - Added Node ID and enode for 178.62.81.59:30300\n",
      "INFO - Sent PING to 142.179.115.168:1024\n",
      "WARNING - Unable to retrieve 1 PONG packet(s) from 142.179.115.168:1024. Waited ~5 seconds\n",
      "INFO - Sent PING to 34.216.119.50:30303\n",
      "WARNING - Unable to retrieve 1 PONG packet(s) from 34.216.119.50:30303. Waited ~5 seconds\n",
      "INFO - Sent PING to 178.62.253.4:30303\n",
      "INFO - Retrieved 1 PONG packet(s) from 178.62.253.4:30303\n",
      "INFO - Added 178.62.253.4:30303 to routing table\n",
      "INFO - Sent ENR_REQUEST to 178.62.253.4:30303\n",
      "WARNING - Unable to retrieve 1 ENR_RESPONSE packet(s) from 178.62.253.4:30303. Waited ~5 seconds\n",
      "INFO - Sent PING to 52.39.237.85:30303\n",
      "INFO - Received PING from 52.39.237.85:30303\n",
      "INFO - Sent PONG to 52.39.237.85:30303\n",
      "INFO - Retrieved 1 PONG packet(s) from 52.39.237.85:30303\n",
      "INFO - Added 52.39.237.85:30303 to routing table\n",
      "INFO - Sent ENR_REQUEST to 52.39.237.85:30303\n",
      "INFO - Retrieved 1 ENR_RESPONSE packet(s) from 52.39.237.85:30303\n",
      "INFO - Added Node ID and enode for 52.39.237.85:30303\n",
      "INFO - Sent PING to 38.242.246.42:30300\n",
      "INFO - Retrieved 1 PONG packet(s) from 38.242.246.42:30300\n",
      "INFO - Added 38.242.246.42:30300 to routing table\n",
      "INFO - Sent ENR_REQUEST to 38.242.246.42:30300\n",
      "INFO - Retrieved 1 ENR_RESPONSE packet(s) from 38.242.246.42:30300\n",
      "INFO - Added Node ID and enode for 38.242.246.42:30300\n",
      "INFO - Sent PING to 5.9.105.182:30311\n",
      "INFO - Retrieved 1 PONG packet(s) from 5.9.105.182:30311\n",
      "INFO - Added 5.9.105.182:30311 to routing table\n",
      "INFO - Sent ENR_REQUEST to 5.9.105.182:30311\n",
      "INFO - Retrieved 1 ENR_RESPONSE packet(s) from 5.9.105.182:30311\n",
      "INFO - Added Node ID and enode for 5.9.105.182:30311\n",
      "INFO - Sent PING to 65.108.60.247:30300\n",
      "INFO - Retrieved 1 PONG packet(s) from 65.108.60.247:30300\n",
      "INFO - Added 65.108.60.247:30300 to routing table\n",
      "INFO - Sent ENR_REQUEST to 65.108.60.247:30300\n",
      "INFO - Retrieved 1 ENR_RESPONSE packet(s) from 65.108.60.247:30300\n",
      "INFO - Added Node ID and enode for 65.108.60.247:30300\n",
      "INFO - Sent PING to 88.198.46.155:30311\n",
      "INFO - Retrieved 1 PONG packet(s) from 88.198.46.155:30311\n",
      "INFO - Added 88.198.46.155:30311 to routing table\n",
      "INFO - Sent ENR_REQUEST to 88.198.46.155:30311\n",
      "INFO - Retrieved 1 ENR_RESPONSE packet(s) from 88.198.46.155:30311\n",
      "INFO - Added Node ID and enode for 88.198.46.155:30311\n",
      "INFO - Sent PING to 185.215.180.251:30300\n",
      "INFO - Retrieved 1 PONG packet(s) from 185.215.180.251:30300\n",
      "INFO - Added 185.215.180.251:30300 to routing table\n",
      "INFO - Sent ENR_REQUEST to 185.215.180.251:30300\n",
      "INFO - Retrieved 1 ENR_RESPONSE packet(s) from 185.215.180.251:30300\n",
      "INFO - Added Node ID and enode for 185.215.180.251:30300\n",
      "INFO - Sent PING to 164.68.112.167:30300\n",
      "INFO - Retrieved 1 PONG packet(s) from 164.68.112.167:30300\n",
      "INFO - Added 164.68.112.167:30300 to routing table\n",
      "INFO - Sent ENR_REQUEST to 164.68.112.167:30300\n",
      "INFO - Retrieved 1 ENR_RESPONSE packet(s) from 164.68.112.167:30300\n",
      "INFO - Added Node ID and enode for 164.68.112.167:30300\n",
      "INFO - Sent PING to 66.18.13.183:30303\n",
      "INFO - Received PING from 66.18.13.183:30303\n",
      "INFO - Sent PONG to 66.18.13.183:30303\n",
      "INFO - Retrieved 1 PONG packet(s) from 66.18.13.183:30303\n",
      "INFO - Added 66.18.13.183:30303 to routing table\n",
      "INFO - Sent ENR_REQUEST to 66.18.13.183:30303\n",
      "INFO - Retrieved 1 ENR_RESPONSE packet(s) from 66.18.13.183:30303\n",
      "INFO - Added Node ID and enode for 66.18.13.183:30303\n",
      "INFO - Sent PING to 167.86.91.152:30305\n",
      "INFO - Retrieved 1 PONG packet(s) from 167.86.91.152:30305\n",
      "INFO - Added 167.86.91.152:30305 to routing table\n",
      "INFO - Sent ENR_REQUEST to 167.86.91.152:30305\n",
      "INFO - Retrieved 1 ENR_RESPONSE packet(s) from 167.86.91.152:30305\n",
      "INFO - Added Node ID and enode for 167.86.91.152:30305\n"
     ]
    }
   ],
   "source": [
    "if my_session.ping_connect(dst_ip_str, dst_port_udp):\n",
    "    if my_session.nodeid_from_ip(dst_ip_str, dst_port_udp):\n",
    "        my_session.get_neighbors(dst_ip_str, dst_port_udp, my_session.routing_df.iloc[0][\"node id\"])"
   ],
   "metadata": {
    "collapsed": false,
    "pycharm": {
     "name": "#%%\n"
    }
   }
  },
  {
   "cell_type": "markdown",
   "source": [
    "# Routing Table"
   ],
   "metadata": {
    "collapsed": false,
    "pycharm": {
     "name": "#%% md\n"
    }
   }
  },
  {
   "cell_type": "code",
   "execution_count": 5,
   "outputs": [
    {
     "data": {
      "text/plain": "                 ip    udp active    first ping     last ping  \\\n0      51.38.53.111  30303   True  1.659307e+09  1.659307e+09   \n1     94.198.43.106  57000   True  1.659307e+09  1.659307e+09   \n2        3.237.4.61  30303   True  1.659307e+09  1.659307e+09   \n3      178.62.81.59  30300   True  1.659307e+09  1.659307e+09   \n4      178.62.253.4  30303  False  1.659307e+09  1.659307e+09   \n5      52.39.237.85  30303   True  1.659307e+09  1.659307e+09   \n6     38.242.246.42  30300   True  1.659307e+09  1.659307e+09   \n7       5.9.105.182  30311   True  1.659307e+09  1.659307e+09   \n8     65.108.60.247  30300   True  1.659307e+09  1.659307e+09   \n9     88.198.46.155  30311   True  1.659307e+09  1.659307e+09   \n10  185.215.180.251  30300   True  1.659307e+09  1.659307e+09   \n11   164.68.112.167  30300   True  1.659307e+09  1.659307e+09   \n12     66.18.13.183  30303   True  1.659307e+09  1.659307e+09   \n13    167.86.91.152  30305   True  1.659307e+09  1.659307e+09   \n\n                                              node id  \\\n0   b\"\\x1by\\x18\\x14\\x16\\x8e\\x1cC\\x02\\xfb\\x91{\\x04'...   \n1   b'\\x1f\\xd7\\x80\\x05\\xa9\\xa7!I\\xa9\\x8a\\x03\\xa8pJ...   \n2   b\"\\x96\\xfa<= *\\xcb2\\x82;\\xbf\\xefs8\\xa9{\\xf4\\x0...   \n3   b'\\x08A\\xde;\\x8f\\xc3\\xb5\\x0b\\x05\\xf7G\\x98\\xba\\...   \n4                                                 NaN   \n5   b\"bao0\\xaa_\\xc2gd\\x00\\xe0\\x88gC/\\xa1d\\xd69I\\x9...   \n6   b\"ZT3\\xc0WUo\\x06\\x8dfE3w\\xdb\\xc8\\xdc\\xe1y\\x88\\...   \n7   b'\\xe8\\xd0\\x08nrP\\xd8\\xe2\\xf20\\xa0\\xe2\\x18o~\\x...   \n8   b'e\\xf5l\\xed\\x89\\xcc\\xb0\\xdb\\xa5\\xf8\\xe9\\x1a\\x...   \n9   b\" \\x96\\x88]k\\xc9\\x01\\xf3\\xbd\\xa7cs\\x86~'G\\xb0...   \n10  b'\\xf2\\xed\\x99\\xf7\\x0b\\x0c\\x9fp\\x15(M\\x0e)\\x93...   \n11  b'\\xf0\\x07u\\xfa\\xb9\\xea[\\x046a\\x8f\\xe8q$\\xc4k\\...   \n12  b'\\xd7\\x10\\xa9\\xaf\\xa0\\xa3\\xac\\xeeK\\xfa\\x98\\x8...   \n13  b\"\\x8acO\\xee\\x04\\x07\\xd6Ob\\x953\\xb9\\xfe/\\x88|0...   \n\n                                                enode  \n0   enode://1b791814168e1c4302fb917b04272f3ac37bb7...  \n1   enode://1fd78005a9a72149a98a03a8704aa535a8697b...  \n2   enode://96fa3c3d202acb32823bbfef7338a97bf405f6...  \n3   enode://0841de3b8fc3b50b05f74798bac276ecb3a656...  \n4                                                 NaN  \n5   enode://62616f30aa5fc2676400e08867432fa164d639...  \n6   enode://5a5433c057556f068d66453377dbc8dce17988...  \n7   enode://e8d0086e7250d8e2f230a0e2186f7e7fe45f69...  \n8   enode://65f56ced89ccb0dba5f8e91ad2c6202642f886...  \n9   enode://2096885d6bc901f3bda76373867e2747b0133f...  \n10  enode://f2ed99f70b0c9f7015284d0e2993398c89f0d0...  \n11  enode://f00775fab9ea5b0436618fe87124c46bd78549...  \n12  enode://d710a9afa0a3acee4bfa988689379f796fd711...  \n13  enode://8a634fee0407d64f629533b9fe2f887c30c88b...  ",
      "text/html": "<div>\n<style scoped>\n    .dataframe tbody tr th:only-of-type {\n        vertical-align: middle;\n    }\n\n    .dataframe tbody tr th {\n        vertical-align: top;\n    }\n\n    .dataframe thead th {\n        text-align: right;\n    }\n</style>\n<table border=\"1\" class=\"dataframe\">\n  <thead>\n    <tr style=\"text-align: right;\">\n      <th></th>\n      <th>ip</th>\n      <th>udp</th>\n      <th>active</th>\n      <th>first ping</th>\n      <th>last ping</th>\n      <th>node id</th>\n      <th>enode</th>\n    </tr>\n  </thead>\n  <tbody>\n    <tr>\n      <th>0</th>\n      <td>51.38.53.111</td>\n      <td>30303</td>\n      <td>True</td>\n      <td>1.659307e+09</td>\n      <td>1.659307e+09</td>\n      <td>b\"\\x1by\\x18\\x14\\x16\\x8e\\x1cC\\x02\\xfb\\x91{\\x04'...</td>\n      <td>enode://1b791814168e1c4302fb917b04272f3ac37bb7...</td>\n    </tr>\n    <tr>\n      <th>1</th>\n      <td>94.198.43.106</td>\n      <td>57000</td>\n      <td>True</td>\n      <td>1.659307e+09</td>\n      <td>1.659307e+09</td>\n      <td>b'\\x1f\\xd7\\x80\\x05\\xa9\\xa7!I\\xa9\\x8a\\x03\\xa8pJ...</td>\n      <td>enode://1fd78005a9a72149a98a03a8704aa535a8697b...</td>\n    </tr>\n    <tr>\n      <th>2</th>\n      <td>3.237.4.61</td>\n      <td>30303</td>\n      <td>True</td>\n      <td>1.659307e+09</td>\n      <td>1.659307e+09</td>\n      <td>b\"\\x96\\xfa&lt;= *\\xcb2\\x82;\\xbf\\xefs8\\xa9{\\xf4\\x0...</td>\n      <td>enode://96fa3c3d202acb32823bbfef7338a97bf405f6...</td>\n    </tr>\n    <tr>\n      <th>3</th>\n      <td>178.62.81.59</td>\n      <td>30300</td>\n      <td>True</td>\n      <td>1.659307e+09</td>\n      <td>1.659307e+09</td>\n      <td>b'\\x08A\\xde;\\x8f\\xc3\\xb5\\x0b\\x05\\xf7G\\x98\\xba\\...</td>\n      <td>enode://0841de3b8fc3b50b05f74798bac276ecb3a656...</td>\n    </tr>\n    <tr>\n      <th>4</th>\n      <td>178.62.253.4</td>\n      <td>30303</td>\n      <td>False</td>\n      <td>1.659307e+09</td>\n      <td>1.659307e+09</td>\n      <td>NaN</td>\n      <td>NaN</td>\n    </tr>\n    <tr>\n      <th>5</th>\n      <td>52.39.237.85</td>\n      <td>30303</td>\n      <td>True</td>\n      <td>1.659307e+09</td>\n      <td>1.659307e+09</td>\n      <td>b\"bao0\\xaa_\\xc2gd\\x00\\xe0\\x88gC/\\xa1d\\xd69I\\x9...</td>\n      <td>enode://62616f30aa5fc2676400e08867432fa164d639...</td>\n    </tr>\n    <tr>\n      <th>6</th>\n      <td>38.242.246.42</td>\n      <td>30300</td>\n      <td>True</td>\n      <td>1.659307e+09</td>\n      <td>1.659307e+09</td>\n      <td>b\"ZT3\\xc0WUo\\x06\\x8dfE3w\\xdb\\xc8\\xdc\\xe1y\\x88\\...</td>\n      <td>enode://5a5433c057556f068d66453377dbc8dce17988...</td>\n    </tr>\n    <tr>\n      <th>7</th>\n      <td>5.9.105.182</td>\n      <td>30311</td>\n      <td>True</td>\n      <td>1.659307e+09</td>\n      <td>1.659307e+09</td>\n      <td>b'\\xe8\\xd0\\x08nrP\\xd8\\xe2\\xf20\\xa0\\xe2\\x18o~\\x...</td>\n      <td>enode://e8d0086e7250d8e2f230a0e2186f7e7fe45f69...</td>\n    </tr>\n    <tr>\n      <th>8</th>\n      <td>65.108.60.247</td>\n      <td>30300</td>\n      <td>True</td>\n      <td>1.659307e+09</td>\n      <td>1.659307e+09</td>\n      <td>b'e\\xf5l\\xed\\x89\\xcc\\xb0\\xdb\\xa5\\xf8\\xe9\\x1a\\x...</td>\n      <td>enode://65f56ced89ccb0dba5f8e91ad2c6202642f886...</td>\n    </tr>\n    <tr>\n      <th>9</th>\n      <td>88.198.46.155</td>\n      <td>30311</td>\n      <td>True</td>\n      <td>1.659307e+09</td>\n      <td>1.659307e+09</td>\n      <td>b\" \\x96\\x88]k\\xc9\\x01\\xf3\\xbd\\xa7cs\\x86~'G\\xb0...</td>\n      <td>enode://2096885d6bc901f3bda76373867e2747b0133f...</td>\n    </tr>\n    <tr>\n      <th>10</th>\n      <td>185.215.180.251</td>\n      <td>30300</td>\n      <td>True</td>\n      <td>1.659307e+09</td>\n      <td>1.659307e+09</td>\n      <td>b'\\xf2\\xed\\x99\\xf7\\x0b\\x0c\\x9fp\\x15(M\\x0e)\\x93...</td>\n      <td>enode://f2ed99f70b0c9f7015284d0e2993398c89f0d0...</td>\n    </tr>\n    <tr>\n      <th>11</th>\n      <td>164.68.112.167</td>\n      <td>30300</td>\n      <td>True</td>\n      <td>1.659307e+09</td>\n      <td>1.659307e+09</td>\n      <td>b'\\xf0\\x07u\\xfa\\xb9\\xea[\\x046a\\x8f\\xe8q$\\xc4k\\...</td>\n      <td>enode://f00775fab9ea5b0436618fe87124c46bd78549...</td>\n    </tr>\n    <tr>\n      <th>12</th>\n      <td>66.18.13.183</td>\n      <td>30303</td>\n      <td>True</td>\n      <td>1.659307e+09</td>\n      <td>1.659307e+09</td>\n      <td>b'\\xd7\\x10\\xa9\\xaf\\xa0\\xa3\\xac\\xeeK\\xfa\\x98\\x8...</td>\n      <td>enode://d710a9afa0a3acee4bfa988689379f796fd711...</td>\n    </tr>\n    <tr>\n      <th>13</th>\n      <td>167.86.91.152</td>\n      <td>30305</td>\n      <td>True</td>\n      <td>1.659307e+09</td>\n      <td>1.659307e+09</td>\n      <td>b\"\\x8acO\\xee\\x04\\x07\\xd6Ob\\x953\\xb9\\xfe/\\x88|0...</td>\n      <td>enode://8a634fee0407d64f629533b9fe2f887c30c88b...</td>\n    </tr>\n  </tbody>\n</table>\n</div>"
     },
     "execution_count": 5,
     "metadata": {},
     "output_type": "execute_result"
    }
   ],
   "source": [
    "my_session.routing_df"
   ],
   "metadata": {
    "collapsed": false,
    "pycharm": {
     "name": "#%%\n"
    }
   }
  },
  {
   "cell_type": "markdown",
   "source": [
    "# Response Packets"
   ],
   "metadata": {
    "collapsed": false,
    "pycharm": {
     "name": "#%% md\n"
    }
   }
  },
  {
   "cell_type": "code",
   "execution_count": 6,
   "outputs": [
    {
     "data": {
      "text/plain": "            time               ip    udp  \\\n0   1.659307e+09     51.38.53.111  30303   \n1   1.659307e+09     51.38.53.111  30303   \n2   1.659307e+09     51.38.53.111  30303   \n3   1.659307e+09     51.38.53.111  30303   \n4   1.659307e+09    94.198.43.106  57000   \n5   1.659307e+09    94.198.43.106  57000   \n6   1.659307e+09       3.237.4.61  30303   \n7   1.659307e+09       3.237.4.61  30303   \n8   1.659307e+09       3.237.4.61  30303   \n9   1.659307e+09     178.62.81.59  30300   \n10  1.659307e+09     178.62.81.59  30300   \n11  1.659307e+09     178.62.253.4  30303   \n12  1.659307e+09     52.39.237.85  30303   \n13  1.659307e+09     52.39.237.85  30303   \n14  1.659307e+09     52.39.237.85  30303   \n15  1.659307e+09    38.242.246.42  30300   \n16  1.659307e+09    38.242.246.42  30300   \n17  1.659307e+09      5.9.105.182  30311   \n18  1.659307e+09      5.9.105.182  30311   \n19  1.659307e+09    65.108.60.247  30300   \n20  1.659307e+09    65.108.60.247  30300   \n21  1.659307e+09    88.198.46.155  30311   \n22  1.659307e+09    88.198.46.155  30311   \n23  1.659307e+09  185.215.180.251  30300   \n24  1.659307e+09  185.215.180.251  30300   \n25  1.659307e+09   164.68.112.167  30300   \n26  1.659307e+09   164.68.112.167  30300   \n27  1.659307e+09     66.18.13.183  30303   \n28  1.659307e+09     66.18.13.183  30303   \n29  1.659307e+09     66.18.13.183  30303   \n30  1.659307e+09    167.86.91.152  30305   \n31  1.659307e+09    167.86.91.152  30305   \n\n                                                  raw  \\\n0   b'A\\x0f\\x83\\xa7\\xce\\xe1\\x1c\\x1f\\x08\\xfd\\xc1\\xf...   \n1   b'Q\\x0c\\xe2\\r\\xa4\\xe9\\x95c\\x95\\xb3\\rWAmV\\xb3\\x...   \n2   b'\\xed\\xefr\\xf1\\xce\\x13\\xacZ\\x8e\\x053\\xd5\\xc9\\...   \n3   b\"\\xb4\\xcc\\x10uD\\xe9\\xabK\\xf0\\x99\\xff\\xa5\\xfc\\...   \n4   b'4\\xa6t\\x06\\x06\\xf7D\\xc6xG4\\xc7J\\xec\\xe3\\x97\\...   \n5   b'P#L23\\xd4\\x1b\\x8c\\x00\\x1f\\xf1\\npn_n\\xaeA\\xb0...   \n6   b'\\xd03\\x06\\xa3\\x95\\xfe\\x87\\xa4\\x01\\xa0\\x9c\\xb...   \n7   b\"\\xef\\x02\\x94T\\xd9E\\xfc9\\x03&b4\\x01\\x03`\\x8c\\...   \n8   b'\\x8a[\\xb61\\xabzv\\xc7E\\xe9 67t\\x1f\\xe3)\\x9a\\x...   \n9   b'\\xde@\\xdb\\xe7\\x91\\x8cA\\xad\\xc3\\x00\\x13m.Q\\xc...   \n10  b'\\xdf}+K\\x1c\\xaa\\xd8\\xcd\\x1b\\xf9\\xd3f@rC\\xa5\\...   \n11  b'~izwo\\xc8\\xa9\\xb8\\xf2\\x148\\xc0\\x86\\xbe\\x97\\x...   \n12  b\"8\\x9f\\xf7(,z\\x11(\\x88\\x90?\\xf0\\xe0\\xc5\\x93\\x...   \n13  b\"\\xa58N\\x94\\xac>\\x97\\xdd`=\\x1e\\xc9\\x98\\xe18@\\...   \n14  b'\\x9f\\\\\\xf0A\\xe8\\x7f7\\xafMJ\\x9d\\xc3\\xaaW\\x8b\\...   \n15  b'D\\xe4\\xe0\\xf9d?p\\xbb\\x9c\\xacNO\\xb8Z\\xf2\\xc55...   \n16  b'\\x88\\xe0\\xe5\\xd4M\\x99\\xb2\\x15/`z\\xb7;\\xb5\\xb...   \n17  b'\\xd1\\xb7\\xdf\\x9fi\\xd0h\\xabG\\xd2;?*\\x161\\x14\\...   \n18  b\"\\xb8\\xe5X\\xec\\xcc\\xe7\\x84N\\x9c\\xced94\\xbewz\\...   \n19  b'\\xc3\",\\xfbx\\x16\\x06K\\xbe\\x12\\x02\\x92\\x8f_\\xa...   \n20  b'V \\x97\\xf2\\xe2\\x86F\\xf6\\xbb`\\x02\\xa1\\x05\\x1e...   \n21  b\"\\x1a\\x90\\x8c\\r\\xf5\\xad\\xf7%e2\\xa5P\\xfc\\xec\\x...   \n22  b\"\\xce$\\xc6\\xaev\\xbc9y\\xdb\\xcb)\\x01\\x85\\x18\\x1...   \n23  b'9C#\\xa4\\xe4\\xe0\\xcd\\xe3/\\x9e\\xac\\x18\\xfe\\xaa...   \n24  b'\\xd9\\x16\\xcb\\xd6\\x87\\xa6\\x10\\x7f5\\x96\\xf4\\x9...   \n25  b'\\x06G\\xb6\\xf9\\t\\xd35^\\x07\\xcf\\x0b\\xeb]9\\xb6\\...   \n26  b\"\\xa6o6/\\x8e;(S\\x0b\\x93\\xc8\\t\\r\\x18\\xe1\\xba\\x...   \n27  b\"\\x12j!\\xbf\\xdf\\x90\\xd4S\\xe7(\\x01\\t\\xe5A\\x82j...   \n28  b\"|\\x01\\xc1\\x8f\\xd3'\\x0c0\\xa6G\\xd3\\x03\\x93>\\xa...   \n29  b'\\x9a\\x90Q?\\xcc\\xa8\\xb8\\xf1\\xaf\\xcb\\x11<\\x07\\...   \n30  b\"yb8\\x11\\xf2\\x1a\\xcc\\x9e\\x1bV\\x9c1$\\xd9\\x16\\x...   \n31  b'\\x02G\\xe7\\x87\\x0eV\\xfa\\xcf!\\xd3\\xf1X\\r\\xe7\\x...   \n\n                                                 hash  \\\n0   b'A\\x0f\\x83\\xa7\\xce\\xe1\\x1c\\x1f\\x08\\xfd\\xc1\\xf...   \n1   b'Q\\x0c\\xe2\\r\\xa4\\xe9\\x95c\\x95\\xb3\\rWAmV\\xb3\\x...   \n2   b'\\xed\\xefr\\xf1\\xce\\x13\\xacZ\\x8e\\x053\\xd5\\xc9\\...   \n3   b'\\xb4\\xcc\\x10uD\\xe9\\xabK\\xf0\\x99\\xff\\xa5\\xfc\\...   \n4   b'4\\xa6t\\x06\\x06\\xf7D\\xc6xG4\\xc7J\\xec\\xe3\\x97\\...   \n5   b'P#L23\\xd4\\x1b\\x8c\\x00\\x1f\\xf1\\npn_n\\xaeA\\xb0...   \n6   b'\\xd03\\x06\\xa3\\x95\\xfe\\x87\\xa4\\x01\\xa0\\x9c\\xb...   \n7   b'\\xef\\x02\\x94T\\xd9E\\xfc9\\x03&b4\\x01\\x03`\\x8c\\...   \n8   b'\\x8a[\\xb61\\xabzv\\xc7E\\xe9 67t\\x1f\\xe3)\\x9a\\x...   \n9   b'\\xde@\\xdb\\xe7\\x91\\x8cA\\xad\\xc3\\x00\\x13m.Q\\xc...   \n10  b'\\xdf}+K\\x1c\\xaa\\xd8\\xcd\\x1b\\xf9\\xd3f@rC\\xa5\\...   \n11  b'~izwo\\xc8\\xa9\\xb8\\xf2\\x148\\xc0\\x86\\xbe\\x97\\x...   \n12  b'8\\x9f\\xf7(,z\\x11(\\x88\\x90?\\xf0\\xe0\\xc5\\x93\\x...   \n13  b\"\\xa58N\\x94\\xac>\\x97\\xdd`=\\x1e\\xc9\\x98\\xe18@\\...   \n14  b'\\x9f\\\\\\xf0A\\xe8\\x7f7\\xafMJ\\x9d\\xc3\\xaaW\\x8b\\...   \n15  b'D\\xe4\\xe0\\xf9d?p\\xbb\\x9c\\xacNO\\xb8Z\\xf2\\xc55...   \n16  b'\\x88\\xe0\\xe5\\xd4M\\x99\\xb2\\x15/`z\\xb7;\\xb5\\xb...   \n17  b'\\xd1\\xb7\\xdf\\x9fi\\xd0h\\xabG\\xd2;?*\\x161\\x14\\...   \n18  b'\\xb8\\xe5X\\xec\\xcc\\xe7\\x84N\\x9c\\xced94\\xbewz\\...   \n19  b'\\xc3\",\\xfbx\\x16\\x06K\\xbe\\x12\\x02\\x92\\x8f_\\xa...   \n20  b'V \\x97\\xf2\\xe2\\x86F\\xf6\\xbb`\\x02\\xa1\\x05\\x1e...   \n21  b'\\x1a\\x90\\x8c\\r\\xf5\\xad\\xf7%e2\\xa5P\\xfc\\xec\\x...   \n22  b'\\xce$\\xc6\\xaev\\xbc9y\\xdb\\xcb)\\x01\\x85\\x18\\x1...   \n23  b'9C#\\xa4\\xe4\\xe0\\xcd\\xe3/\\x9e\\xac\\x18\\xfe\\xaa...   \n24  b'\\xd9\\x16\\xcb\\xd6\\x87\\xa6\\x10\\x7f5\\x96\\xf4\\x9...   \n25  b'\\x06G\\xb6\\xf9\\t\\xd35^\\x07\\xcf\\x0b\\xeb]9\\xb6\\...   \n26  b'\\xa6o6/\\x8e;(S\\x0b\\x93\\xc8\\t\\r\\x18\\xe1\\xba\\x...   \n27  b'\\x12j!\\xbf\\xdf\\x90\\xd4S\\xe7(\\x01\\t\\xe5A\\x82j...   \n28  b\"|\\x01\\xc1\\x8f\\xd3'\\x0c0\\xa6G\\xd3\\x03\\x93>\\xa...   \n29  b'\\x9a\\x90Q?\\xcc\\xa8\\xb8\\xf1\\xaf\\xcb\\x11<\\x07\\...   \n30  b'yb8\\x11\\xf2\\x1a\\xcc\\x9e\\x1bV\\x9c1$\\xd9\\x16\\x...   \n31  b'\\x02G\\xe7\\x87\\x0eV\\xfa\\xcf!\\xd3\\xf1X\\r\\xe7\\x...   \n\n                                                  sig type  \\\n0   b'e\\x99\\x8e\\x00\\xd9\\xfd\\xa4\\x85\\xe9\\t5\\x90\\xae...    2   \n1   b'\\xbe\\xba\\x05*|\\xe5\\xb6\\xe4\\xbb\\xedk\\xe3\\xc6G...    6   \n2   b'\\x10\\xb6\\x97\\x84\\xd1\\xf25\\xee\\xc8\\xed=\\x02\\x...    4   \n3   b'\\x9f\\xc6/\\x89\\xb4=\\xcbq\\x7f\\xb1\\x88\\xe32\\n\\x...    4   \n4   b'\\xa2\\xf8\\x0b#>\\xb69\\xed\\xce\\xbd\\xd3Z\\x0f\\xac...    2   \n5   b'\\x1es\\x17\\xea\\x88\\xf2\\xfdba\\xfda\\x0b\\xb0\\xae...    6   \n6   b'\\xba\\xdaa\\xe0\\xd3:\\xcfI+\\x84\\xdb?f\\xec&~\\x00...    1   \n7   b'e\\xbb\\x8a\\x87\\xf9\\x1f\\xb5\\x17`B|\\x0f7\\xdb&\\x...    2   \n8   b't\\x14}c;\\xa4\\x0b\\x87\\xef(\\xeaZdb\\xa8s\\xa8\\xd...    6   \n9   b'e\\x11\\xcb\\xec\\x99u\\xd2\\xbc\\xb0\\xd26\\x1dC[\\t\\...    2   \n10  b'\\x91%\\xa1N\\x86G\\xde\\xdd\\xd2\\xc7\\xaa\\xeb\\x1e\\...    6   \n11  b'\\x8a\\x8d\\x9eK\\x11\\xecJ-:\\xa2\\x01m\\xf7\\xc8\\xf...    2   \n12  b'A0\\xecP\\x91\\xb5\\xa6/d\\x9f\\x88\\x8e\\x91\\xe2\\xb...    2   \n13  b'Zn\\x04x\\xe5\\xa2U\\x94C\\xe6 <G_r\\x10\\x9e\\xf5\\x...    1   \n14  b'\\x81\\xa3|T\"R\\xff\\xc4`\\x8e\\xab\\xbc\\x9aO\\xd2\\x...    6   \n15  b'+\\xc8A\\xfe\\xaf)\\x0f\\x1e3\\xcb\\xd0G< \\xd3\\xe4\\...    2   \n16  b'=\\xcb\\xdc\\xfe\\xf4\\xa4\\r\\x83\\xcaq<-\\xb56\\xc2\\...    6   \n17  b'R\\xe0\\xf7S\\xab\\x93\\xfb\\x16\\x91\\xa1z]\\x8ao_\\x...    2   \n18  b\"!\\x97\\x9c\\x9b\\xcae \\x8d#\\x03\\x81\\xc6\\xbe\\x19...    6   \n19  b'\\xaf4\\xacx$$\\xad\\x90i\\xff\\xca\\x0b\\x7f\\x85\\xb...    2   \n20  b'\\xc8\\x04X\\xc4\\x89Jt3\\xbc\\xba\\x8bx\\xcc*\\xc7\\x...    6   \n21  b\"Lk\\xef\\x85\\xb7'\\x8b\\xe7bi{xf\\x99x\\x9a\\xf7zA:...    2   \n22  b'\\x8e<\\xc37e\\xbf\\xeb \\xe9\\x07\\t\\xd5|\\x9a\\xf0\\...    6   \n23  b'\\x19B0w\\x1b\\x80\\xeb\\x02\\x8dN\\x0e\\x80\\x06m\\x8...    2   \n24  b'\\xd5q\\xd7\"\\xf3\\xf8\\x04H\\\\bh\\xd1\\xd4`\\xf1g\\xf...    6   \n25  b'0\\xb50\\xd6\\x1f\\x1a\\xd0I;\\x1c\\x18A\\xf7e\\xcd\\x...    2   \n26  b'\\x8f\\xe8*\\xfc\\x94\\x01~p\\x8f\\x9c,D\\xcb\\xbe\\x9...    6   \n27  b\"\\xff\\xf7su\\xe9\\\\\\xec\\xdbv0`!\\xa2\\xc5\\xf6\\x1b...    1   \n28  b'\\x83\\xabS\\x7f9=\\xdc;\\xb9\\xb5\\xed|\\xf4\\x90fc\\...    2   \n29  b'\\x06\\x14\\xb2\\x7fo\\xc0\\xd4\\x86\\x0b@\\x9d\\xd9\\x...    6   \n30  b\"\\x0e\\xd3\\x04!\\xc3\\x19\\xb8]\\x7f\\x8aR[\\xb68\\xe...    2   \n31  b'\\xb8\\x08\\xf0\\xc7\\xdc\\xb0rD\\x12}/\\xe0\\x94S(\\x...    6   \n\n                                                 data  \n0   [[b'\\xb8\\x93\\xfa\\xc0', b'v_', b''], b'\\x16(\\xb...  \n1   [b'\\xf7\\xde\"\\x8c\\xccq\\xcdL\\x13-\\x03\\x9e\\xb7\\xc...  \n2   [[[b'\\x8e\\xb3s\\xa8', b'\\x04\\x00', b'v_', b':\\x...  \n3   [[[b'^\\xc6+j', b'\\xde\\xa8', b'\\xde\\xa8', b'\\x1...  \n4   [[b'\\x00\\x00\\x00\\x00\\x00\\x00\\x00\\x00\\x00\\x00\\x...  \n5   [b'\\xe1\\x11\\xcdN\\x92\\xe3\\x9eCL\\x88G^\\xaf\\xa5\\x...  \n6   [b'\\x04', [b'\\x03\\xed\\x04=', b'v_', b'v_'], [b...  \n7   [[b'\\xb8\\x93\\xfa\\xc0', b'v_', b''], b\"(\\xa4\\x9...  \n8   [b'\\xfc\\xa7\\x10\\x02\\xbc \\xfd\\xf1\\xd0\\xc6G\\t\\xa...  \n9   [[b'\\xb8\\x93\\xfa\\xc0', b'v_', b''], b'\\x0bdM\\x...  \n10  [b'R\\x8fY\\xb8\\xe4\\xd6.\\xaekD)\\x10\\x9aE\\x90\\x89...  \n11  [[b'\\xb8\\x93\\xfa\\xc0', b'v_', b''], b'\\x04\\xf7...  \n12  [[b'\\xb8\\x93\\xfa\\xc0', b'v_', b''], b\"\\x0bO\\xd...  \n13  [b'\\x04', [b\"4'\\xedU\", b'v_', b'v_'], [b'\\xb8\\...  \n14  [b'\\x15\\xfe\\xd4tIS\\xe7\\x12\\xa2\\xc7\"\\x8b\\x15\\xd...  \n15  [[b'\\xb8\\x93\\xfa\\xc0', b'v_', b''], b'y\\x86\\xb...  \n16  [b'\\x0eY\\xc6\\xc2\\xe6\\xe9\\x92!G\\x0e\\xcdl\\xdd#5n...  \n17  [[b'\\xb8\\x93\\xfa\\xc0', b'v_', b''], b'\\xa2\\x9d...  \n18  [b'.cwqP\\x9e\\xad\\x19\\xd7h?w\\xe5\\x1f\\xd5*s^.\\x9...  \n19  [[b'\\xb8\\x93\\xfa\\xc0', b'v_', b''], b'\\xf41M\\x...  \n20  [b'\\x12\\x98\\xa8)_\\x14\\x162B\\xa6\\x94\\xb7)\\xbe\\x...  \n21  [[b'\\xb8\\x93\\xfa\\xc0', b'v_', b''], b'xY\\xef\\x...  \n22  [b'\\x94\\xcc;\\x9c\\xa1<\\xd5w\\xaa\\xe1\\x16\\x82\\xd2...  \n23  [[b'\\xb8\\x93\\xfa\\xc0', b'v_', b''], b'\\xae!\\x1...  \n24  [b'\\xdb\\x1e\\x93\\x8e<e\\x90?\\xcb\\xca&o\\xd3(Cz_\\x...  \n25  [[b'\\xb8\\x93\\xfa\\xc0', b'v_', b''], b'R\\x07\\x9...  \n26  [b\"\\xcc^\\xee`'\\xf3\\x90\\xc2]=Lc\\x19fn\\xc4\\\\N\\x1...  \n27  [b'\\x04', [b'B\\x12\\r\\xb7', b'v_', b'v_'], [b'\\...  \n28  [[b'\\x00\\x00\\x00\\x00\\x00\\x00\\x00\\x00\\x00\\x00\\x...  \n29  [b'\\x9d\\xeb\\x8f\\xa6!\\xd3\\xd9\\xddR26\\xc2\\xff\\xa...  \n30  [[b'\\xb8\\x93\\xfa\\xc0', b'v_', b''], b'\\x8f\\x19...  \n31  [b'p0\\xeb\\xbfNB\\x12\\xbb\\xb2.\\xe4\\xf9f\\x90\\xb9\\...  ",
      "text/html": "<div>\n<style scoped>\n    .dataframe tbody tr th:only-of-type {\n        vertical-align: middle;\n    }\n\n    .dataframe tbody tr th {\n        vertical-align: top;\n    }\n\n    .dataframe thead th {\n        text-align: right;\n    }\n</style>\n<table border=\"1\" class=\"dataframe\">\n  <thead>\n    <tr style=\"text-align: right;\">\n      <th></th>\n      <th>time</th>\n      <th>ip</th>\n      <th>udp</th>\n      <th>raw</th>\n      <th>hash</th>\n      <th>sig</th>\n      <th>type</th>\n      <th>data</th>\n    </tr>\n  </thead>\n  <tbody>\n    <tr>\n      <th>0</th>\n      <td>1.659307e+09</td>\n      <td>51.38.53.111</td>\n      <td>30303</td>\n      <td>b'A\\x0f\\x83\\xa7\\xce\\xe1\\x1c\\x1f\\x08\\xfd\\xc1\\xf...</td>\n      <td>b'A\\x0f\\x83\\xa7\\xce\\xe1\\x1c\\x1f\\x08\\xfd\\xc1\\xf...</td>\n      <td>b'e\\x99\\x8e\\x00\\xd9\\xfd\\xa4\\x85\\xe9\\t5\\x90\\xae...</td>\n      <td>2</td>\n      <td>[[b'\\xb8\\x93\\xfa\\xc0', b'v_', b''], b'\\x16(\\xb...</td>\n    </tr>\n    <tr>\n      <th>1</th>\n      <td>1.659307e+09</td>\n      <td>51.38.53.111</td>\n      <td>30303</td>\n      <td>b'Q\\x0c\\xe2\\r\\xa4\\xe9\\x95c\\x95\\xb3\\rWAmV\\xb3\\x...</td>\n      <td>b'Q\\x0c\\xe2\\r\\xa4\\xe9\\x95c\\x95\\xb3\\rWAmV\\xb3\\x...</td>\n      <td>b'\\xbe\\xba\\x05*|\\xe5\\xb6\\xe4\\xbb\\xedk\\xe3\\xc6G...</td>\n      <td>6</td>\n      <td>[b'\\xf7\\xde\"\\x8c\\xccq\\xcdL\\x13-\\x03\\x9e\\xb7\\xc...</td>\n    </tr>\n    <tr>\n      <th>2</th>\n      <td>1.659307e+09</td>\n      <td>51.38.53.111</td>\n      <td>30303</td>\n      <td>b'\\xed\\xefr\\xf1\\xce\\x13\\xacZ\\x8e\\x053\\xd5\\xc9\\...</td>\n      <td>b'\\xed\\xefr\\xf1\\xce\\x13\\xacZ\\x8e\\x053\\xd5\\xc9\\...</td>\n      <td>b'\\x10\\xb6\\x97\\x84\\xd1\\xf25\\xee\\xc8\\xed=\\x02\\x...</td>\n      <td>4</td>\n      <td>[[[b'\\x8e\\xb3s\\xa8', b'\\x04\\x00', b'v_', b':\\x...</td>\n    </tr>\n    <tr>\n      <th>3</th>\n      <td>1.659307e+09</td>\n      <td>51.38.53.111</td>\n      <td>30303</td>\n      <td>b\"\\xb4\\xcc\\x10uD\\xe9\\xabK\\xf0\\x99\\xff\\xa5\\xfc\\...</td>\n      <td>b'\\xb4\\xcc\\x10uD\\xe9\\xabK\\xf0\\x99\\xff\\xa5\\xfc\\...</td>\n      <td>b'\\x9f\\xc6/\\x89\\xb4=\\xcbq\\x7f\\xb1\\x88\\xe32\\n\\x...</td>\n      <td>4</td>\n      <td>[[[b'^\\xc6+j', b'\\xde\\xa8', b'\\xde\\xa8', b'\\x1...</td>\n    </tr>\n    <tr>\n      <th>4</th>\n      <td>1.659307e+09</td>\n      <td>94.198.43.106</td>\n      <td>57000</td>\n      <td>b'4\\xa6t\\x06\\x06\\xf7D\\xc6xG4\\xc7J\\xec\\xe3\\x97\\...</td>\n      <td>b'4\\xa6t\\x06\\x06\\xf7D\\xc6xG4\\xc7J\\xec\\xe3\\x97\\...</td>\n      <td>b'\\xa2\\xf8\\x0b#&gt;\\xb69\\xed\\xce\\xbd\\xd3Z\\x0f\\xac...</td>\n      <td>2</td>\n      <td>[[b'\\x00\\x00\\x00\\x00\\x00\\x00\\x00\\x00\\x00\\x00\\x...</td>\n    </tr>\n    <tr>\n      <th>5</th>\n      <td>1.659307e+09</td>\n      <td>94.198.43.106</td>\n      <td>57000</td>\n      <td>b'P#L23\\xd4\\x1b\\x8c\\x00\\x1f\\xf1\\npn_n\\xaeA\\xb0...</td>\n      <td>b'P#L23\\xd4\\x1b\\x8c\\x00\\x1f\\xf1\\npn_n\\xaeA\\xb0...</td>\n      <td>b'\\x1es\\x17\\xea\\x88\\xf2\\xfdba\\xfda\\x0b\\xb0\\xae...</td>\n      <td>6</td>\n      <td>[b'\\xe1\\x11\\xcdN\\x92\\xe3\\x9eCL\\x88G^\\xaf\\xa5\\x...</td>\n    </tr>\n    <tr>\n      <th>6</th>\n      <td>1.659307e+09</td>\n      <td>3.237.4.61</td>\n      <td>30303</td>\n      <td>b'\\xd03\\x06\\xa3\\x95\\xfe\\x87\\xa4\\x01\\xa0\\x9c\\xb...</td>\n      <td>b'\\xd03\\x06\\xa3\\x95\\xfe\\x87\\xa4\\x01\\xa0\\x9c\\xb...</td>\n      <td>b'\\xba\\xdaa\\xe0\\xd3:\\xcfI+\\x84\\xdb?f\\xec&amp;~\\x00...</td>\n      <td>1</td>\n      <td>[b'\\x04', [b'\\x03\\xed\\x04=', b'v_', b'v_'], [b...</td>\n    </tr>\n    <tr>\n      <th>7</th>\n      <td>1.659307e+09</td>\n      <td>3.237.4.61</td>\n      <td>30303</td>\n      <td>b\"\\xef\\x02\\x94T\\xd9E\\xfc9\\x03&amp;b4\\x01\\x03`\\x8c\\...</td>\n      <td>b'\\xef\\x02\\x94T\\xd9E\\xfc9\\x03&amp;b4\\x01\\x03`\\x8c\\...</td>\n      <td>b'e\\xbb\\x8a\\x87\\xf9\\x1f\\xb5\\x17`B|\\x0f7\\xdb&amp;\\x...</td>\n      <td>2</td>\n      <td>[[b'\\xb8\\x93\\xfa\\xc0', b'v_', b''], b\"(\\xa4\\x9...</td>\n    </tr>\n    <tr>\n      <th>8</th>\n      <td>1.659307e+09</td>\n      <td>3.237.4.61</td>\n      <td>30303</td>\n      <td>b'\\x8a[\\xb61\\xabzv\\xc7E\\xe9 67t\\x1f\\xe3)\\x9a\\x...</td>\n      <td>b'\\x8a[\\xb61\\xabzv\\xc7E\\xe9 67t\\x1f\\xe3)\\x9a\\x...</td>\n      <td>b't\\x14}c;\\xa4\\x0b\\x87\\xef(\\xeaZdb\\xa8s\\xa8\\xd...</td>\n      <td>6</td>\n      <td>[b'\\xfc\\xa7\\x10\\x02\\xbc \\xfd\\xf1\\xd0\\xc6G\\t\\xa...</td>\n    </tr>\n    <tr>\n      <th>9</th>\n      <td>1.659307e+09</td>\n      <td>178.62.81.59</td>\n      <td>30300</td>\n      <td>b'\\xde@\\xdb\\xe7\\x91\\x8cA\\xad\\xc3\\x00\\x13m.Q\\xc...</td>\n      <td>b'\\xde@\\xdb\\xe7\\x91\\x8cA\\xad\\xc3\\x00\\x13m.Q\\xc...</td>\n      <td>b'e\\x11\\xcb\\xec\\x99u\\xd2\\xbc\\xb0\\xd26\\x1dC[\\t\\...</td>\n      <td>2</td>\n      <td>[[b'\\xb8\\x93\\xfa\\xc0', b'v_', b''], b'\\x0bdM\\x...</td>\n    </tr>\n    <tr>\n      <th>10</th>\n      <td>1.659307e+09</td>\n      <td>178.62.81.59</td>\n      <td>30300</td>\n      <td>b'\\xdf}+K\\x1c\\xaa\\xd8\\xcd\\x1b\\xf9\\xd3f@rC\\xa5\\...</td>\n      <td>b'\\xdf}+K\\x1c\\xaa\\xd8\\xcd\\x1b\\xf9\\xd3f@rC\\xa5\\...</td>\n      <td>b'\\x91%\\xa1N\\x86G\\xde\\xdd\\xd2\\xc7\\xaa\\xeb\\x1e\\...</td>\n      <td>6</td>\n      <td>[b'R\\x8fY\\xb8\\xe4\\xd6.\\xaekD)\\x10\\x9aE\\x90\\x89...</td>\n    </tr>\n    <tr>\n      <th>11</th>\n      <td>1.659307e+09</td>\n      <td>178.62.253.4</td>\n      <td>30303</td>\n      <td>b'~izwo\\xc8\\xa9\\xb8\\xf2\\x148\\xc0\\x86\\xbe\\x97\\x...</td>\n      <td>b'~izwo\\xc8\\xa9\\xb8\\xf2\\x148\\xc0\\x86\\xbe\\x97\\x...</td>\n      <td>b'\\x8a\\x8d\\x9eK\\x11\\xecJ-:\\xa2\\x01m\\xf7\\xc8\\xf...</td>\n      <td>2</td>\n      <td>[[b'\\xb8\\x93\\xfa\\xc0', b'v_', b''], b'\\x04\\xf7...</td>\n    </tr>\n    <tr>\n      <th>12</th>\n      <td>1.659307e+09</td>\n      <td>52.39.237.85</td>\n      <td>30303</td>\n      <td>b\"8\\x9f\\xf7(,z\\x11(\\x88\\x90?\\xf0\\xe0\\xc5\\x93\\x...</td>\n      <td>b'8\\x9f\\xf7(,z\\x11(\\x88\\x90?\\xf0\\xe0\\xc5\\x93\\x...</td>\n      <td>b'A0\\xecP\\x91\\xb5\\xa6/d\\x9f\\x88\\x8e\\x91\\xe2\\xb...</td>\n      <td>2</td>\n      <td>[[b'\\xb8\\x93\\xfa\\xc0', b'v_', b''], b\"\\x0bO\\xd...</td>\n    </tr>\n    <tr>\n      <th>13</th>\n      <td>1.659307e+09</td>\n      <td>52.39.237.85</td>\n      <td>30303</td>\n      <td>b\"\\xa58N\\x94\\xac&gt;\\x97\\xdd`=\\x1e\\xc9\\x98\\xe18@\\...</td>\n      <td>b\"\\xa58N\\x94\\xac&gt;\\x97\\xdd`=\\x1e\\xc9\\x98\\xe18@\\...</td>\n      <td>b'Zn\\x04x\\xe5\\xa2U\\x94C\\xe6 &lt;G_r\\x10\\x9e\\xf5\\x...</td>\n      <td>1</td>\n      <td>[b'\\x04', [b\"4'\\xedU\", b'v_', b'v_'], [b'\\xb8\\...</td>\n    </tr>\n    <tr>\n      <th>14</th>\n      <td>1.659307e+09</td>\n      <td>52.39.237.85</td>\n      <td>30303</td>\n      <td>b'\\x9f\\\\\\xf0A\\xe8\\x7f7\\xafMJ\\x9d\\xc3\\xaaW\\x8b\\...</td>\n      <td>b'\\x9f\\\\\\xf0A\\xe8\\x7f7\\xafMJ\\x9d\\xc3\\xaaW\\x8b\\...</td>\n      <td>b'\\x81\\xa3|T\"R\\xff\\xc4`\\x8e\\xab\\xbc\\x9aO\\xd2\\x...</td>\n      <td>6</td>\n      <td>[b'\\x15\\xfe\\xd4tIS\\xe7\\x12\\xa2\\xc7\"\\x8b\\x15\\xd...</td>\n    </tr>\n    <tr>\n      <th>15</th>\n      <td>1.659307e+09</td>\n      <td>38.242.246.42</td>\n      <td>30300</td>\n      <td>b'D\\xe4\\xe0\\xf9d?p\\xbb\\x9c\\xacNO\\xb8Z\\xf2\\xc55...</td>\n      <td>b'D\\xe4\\xe0\\xf9d?p\\xbb\\x9c\\xacNO\\xb8Z\\xf2\\xc55...</td>\n      <td>b'+\\xc8A\\xfe\\xaf)\\x0f\\x1e3\\xcb\\xd0G&lt; \\xd3\\xe4\\...</td>\n      <td>2</td>\n      <td>[[b'\\xb8\\x93\\xfa\\xc0', b'v_', b''], b'y\\x86\\xb...</td>\n    </tr>\n    <tr>\n      <th>16</th>\n      <td>1.659307e+09</td>\n      <td>38.242.246.42</td>\n      <td>30300</td>\n      <td>b'\\x88\\xe0\\xe5\\xd4M\\x99\\xb2\\x15/`z\\xb7;\\xb5\\xb...</td>\n      <td>b'\\x88\\xe0\\xe5\\xd4M\\x99\\xb2\\x15/`z\\xb7;\\xb5\\xb...</td>\n      <td>b'=\\xcb\\xdc\\xfe\\xf4\\xa4\\r\\x83\\xcaq&lt;-\\xb56\\xc2\\...</td>\n      <td>6</td>\n      <td>[b'\\x0eY\\xc6\\xc2\\xe6\\xe9\\x92!G\\x0e\\xcdl\\xdd#5n...</td>\n    </tr>\n    <tr>\n      <th>17</th>\n      <td>1.659307e+09</td>\n      <td>5.9.105.182</td>\n      <td>30311</td>\n      <td>b'\\xd1\\xb7\\xdf\\x9fi\\xd0h\\xabG\\xd2;?*\\x161\\x14\\...</td>\n      <td>b'\\xd1\\xb7\\xdf\\x9fi\\xd0h\\xabG\\xd2;?*\\x161\\x14\\...</td>\n      <td>b'R\\xe0\\xf7S\\xab\\x93\\xfb\\x16\\x91\\xa1z]\\x8ao_\\x...</td>\n      <td>2</td>\n      <td>[[b'\\xb8\\x93\\xfa\\xc0', b'v_', b''], b'\\xa2\\x9d...</td>\n    </tr>\n    <tr>\n      <th>18</th>\n      <td>1.659307e+09</td>\n      <td>5.9.105.182</td>\n      <td>30311</td>\n      <td>b\"\\xb8\\xe5X\\xec\\xcc\\xe7\\x84N\\x9c\\xced94\\xbewz\\...</td>\n      <td>b'\\xb8\\xe5X\\xec\\xcc\\xe7\\x84N\\x9c\\xced94\\xbewz\\...</td>\n      <td>b\"!\\x97\\x9c\\x9b\\xcae \\x8d#\\x03\\x81\\xc6\\xbe\\x19...</td>\n      <td>6</td>\n      <td>[b'.cwqP\\x9e\\xad\\x19\\xd7h?w\\xe5\\x1f\\xd5*s^.\\x9...</td>\n    </tr>\n    <tr>\n      <th>19</th>\n      <td>1.659307e+09</td>\n      <td>65.108.60.247</td>\n      <td>30300</td>\n      <td>b'\\xc3\",\\xfbx\\x16\\x06K\\xbe\\x12\\x02\\x92\\x8f_\\xa...</td>\n      <td>b'\\xc3\",\\xfbx\\x16\\x06K\\xbe\\x12\\x02\\x92\\x8f_\\xa...</td>\n      <td>b'\\xaf4\\xacx$$\\xad\\x90i\\xff\\xca\\x0b\\x7f\\x85\\xb...</td>\n      <td>2</td>\n      <td>[[b'\\xb8\\x93\\xfa\\xc0', b'v_', b''], b'\\xf41M\\x...</td>\n    </tr>\n    <tr>\n      <th>20</th>\n      <td>1.659307e+09</td>\n      <td>65.108.60.247</td>\n      <td>30300</td>\n      <td>b'V \\x97\\xf2\\xe2\\x86F\\xf6\\xbb`\\x02\\xa1\\x05\\x1e...</td>\n      <td>b'V \\x97\\xf2\\xe2\\x86F\\xf6\\xbb`\\x02\\xa1\\x05\\x1e...</td>\n      <td>b'\\xc8\\x04X\\xc4\\x89Jt3\\xbc\\xba\\x8bx\\xcc*\\xc7\\x...</td>\n      <td>6</td>\n      <td>[b'\\x12\\x98\\xa8)_\\x14\\x162B\\xa6\\x94\\xb7)\\xbe\\x...</td>\n    </tr>\n    <tr>\n      <th>21</th>\n      <td>1.659307e+09</td>\n      <td>88.198.46.155</td>\n      <td>30311</td>\n      <td>b\"\\x1a\\x90\\x8c\\r\\xf5\\xad\\xf7%e2\\xa5P\\xfc\\xec\\x...</td>\n      <td>b'\\x1a\\x90\\x8c\\r\\xf5\\xad\\xf7%e2\\xa5P\\xfc\\xec\\x...</td>\n      <td>b\"Lk\\xef\\x85\\xb7'\\x8b\\xe7bi{xf\\x99x\\x9a\\xf7zA:...</td>\n      <td>2</td>\n      <td>[[b'\\xb8\\x93\\xfa\\xc0', b'v_', b''], b'xY\\xef\\x...</td>\n    </tr>\n    <tr>\n      <th>22</th>\n      <td>1.659307e+09</td>\n      <td>88.198.46.155</td>\n      <td>30311</td>\n      <td>b\"\\xce$\\xc6\\xaev\\xbc9y\\xdb\\xcb)\\x01\\x85\\x18\\x1...</td>\n      <td>b'\\xce$\\xc6\\xaev\\xbc9y\\xdb\\xcb)\\x01\\x85\\x18\\x1...</td>\n      <td>b'\\x8e&lt;\\xc37e\\xbf\\xeb \\xe9\\x07\\t\\xd5|\\x9a\\xf0\\...</td>\n      <td>6</td>\n      <td>[b'\\x94\\xcc;\\x9c\\xa1&lt;\\xd5w\\xaa\\xe1\\x16\\x82\\xd2...</td>\n    </tr>\n    <tr>\n      <th>23</th>\n      <td>1.659307e+09</td>\n      <td>185.215.180.251</td>\n      <td>30300</td>\n      <td>b'9C#\\xa4\\xe4\\xe0\\xcd\\xe3/\\x9e\\xac\\x18\\xfe\\xaa...</td>\n      <td>b'9C#\\xa4\\xe4\\xe0\\xcd\\xe3/\\x9e\\xac\\x18\\xfe\\xaa...</td>\n      <td>b'\\x19B0w\\x1b\\x80\\xeb\\x02\\x8dN\\x0e\\x80\\x06m\\x8...</td>\n      <td>2</td>\n      <td>[[b'\\xb8\\x93\\xfa\\xc0', b'v_', b''], b'\\xae!\\x1...</td>\n    </tr>\n    <tr>\n      <th>24</th>\n      <td>1.659307e+09</td>\n      <td>185.215.180.251</td>\n      <td>30300</td>\n      <td>b'\\xd9\\x16\\xcb\\xd6\\x87\\xa6\\x10\\x7f5\\x96\\xf4\\x9...</td>\n      <td>b'\\xd9\\x16\\xcb\\xd6\\x87\\xa6\\x10\\x7f5\\x96\\xf4\\x9...</td>\n      <td>b'\\xd5q\\xd7\"\\xf3\\xf8\\x04H\\\\bh\\xd1\\xd4`\\xf1g\\xf...</td>\n      <td>6</td>\n      <td>[b'\\xdb\\x1e\\x93\\x8e&lt;e\\x90?\\xcb\\xca&amp;o\\xd3(Cz_\\x...</td>\n    </tr>\n    <tr>\n      <th>25</th>\n      <td>1.659307e+09</td>\n      <td>164.68.112.167</td>\n      <td>30300</td>\n      <td>b'\\x06G\\xb6\\xf9\\t\\xd35^\\x07\\xcf\\x0b\\xeb]9\\xb6\\...</td>\n      <td>b'\\x06G\\xb6\\xf9\\t\\xd35^\\x07\\xcf\\x0b\\xeb]9\\xb6\\...</td>\n      <td>b'0\\xb50\\xd6\\x1f\\x1a\\xd0I;\\x1c\\x18A\\xf7e\\xcd\\x...</td>\n      <td>2</td>\n      <td>[[b'\\xb8\\x93\\xfa\\xc0', b'v_', b''], b'R\\x07\\x9...</td>\n    </tr>\n    <tr>\n      <th>26</th>\n      <td>1.659307e+09</td>\n      <td>164.68.112.167</td>\n      <td>30300</td>\n      <td>b\"\\xa6o6/\\x8e;(S\\x0b\\x93\\xc8\\t\\r\\x18\\xe1\\xba\\x...</td>\n      <td>b'\\xa6o6/\\x8e;(S\\x0b\\x93\\xc8\\t\\r\\x18\\xe1\\xba\\x...</td>\n      <td>b'\\x8f\\xe8*\\xfc\\x94\\x01~p\\x8f\\x9c,D\\xcb\\xbe\\x9...</td>\n      <td>6</td>\n      <td>[b\"\\xcc^\\xee`'\\xf3\\x90\\xc2]=Lc\\x19fn\\xc4\\\\N\\x1...</td>\n    </tr>\n    <tr>\n      <th>27</th>\n      <td>1.659307e+09</td>\n      <td>66.18.13.183</td>\n      <td>30303</td>\n      <td>b\"\\x12j!\\xbf\\xdf\\x90\\xd4S\\xe7(\\x01\\t\\xe5A\\x82j...</td>\n      <td>b'\\x12j!\\xbf\\xdf\\x90\\xd4S\\xe7(\\x01\\t\\xe5A\\x82j...</td>\n      <td>b\"\\xff\\xf7su\\xe9\\\\\\xec\\xdbv0`!\\xa2\\xc5\\xf6\\x1b...</td>\n      <td>1</td>\n      <td>[b'\\x04', [b'B\\x12\\r\\xb7', b'v_', b'v_'], [b'\\...</td>\n    </tr>\n    <tr>\n      <th>28</th>\n      <td>1.659307e+09</td>\n      <td>66.18.13.183</td>\n      <td>30303</td>\n      <td>b\"|\\x01\\xc1\\x8f\\xd3'\\x0c0\\xa6G\\xd3\\x03\\x93&gt;\\xa...</td>\n      <td>b\"|\\x01\\xc1\\x8f\\xd3'\\x0c0\\xa6G\\xd3\\x03\\x93&gt;\\xa...</td>\n      <td>b'\\x83\\xabS\\x7f9=\\xdc;\\xb9\\xb5\\xed|\\xf4\\x90fc\\...</td>\n      <td>2</td>\n      <td>[[b'\\x00\\x00\\x00\\x00\\x00\\x00\\x00\\x00\\x00\\x00\\x...</td>\n    </tr>\n    <tr>\n      <th>29</th>\n      <td>1.659307e+09</td>\n      <td>66.18.13.183</td>\n      <td>30303</td>\n      <td>b'\\x9a\\x90Q?\\xcc\\xa8\\xb8\\xf1\\xaf\\xcb\\x11&lt;\\x07\\...</td>\n      <td>b'\\x9a\\x90Q?\\xcc\\xa8\\xb8\\xf1\\xaf\\xcb\\x11&lt;\\x07\\...</td>\n      <td>b'\\x06\\x14\\xb2\\x7fo\\xc0\\xd4\\x86\\x0b@\\x9d\\xd9\\x...</td>\n      <td>6</td>\n      <td>[b'\\x9d\\xeb\\x8f\\xa6!\\xd3\\xd9\\xddR26\\xc2\\xff\\xa...</td>\n    </tr>\n    <tr>\n      <th>30</th>\n      <td>1.659307e+09</td>\n      <td>167.86.91.152</td>\n      <td>30305</td>\n      <td>b\"yb8\\x11\\xf2\\x1a\\xcc\\x9e\\x1bV\\x9c1$\\xd9\\x16\\x...</td>\n      <td>b'yb8\\x11\\xf2\\x1a\\xcc\\x9e\\x1bV\\x9c1$\\xd9\\x16\\x...</td>\n      <td>b\"\\x0e\\xd3\\x04!\\xc3\\x19\\xb8]\\x7f\\x8aR[\\xb68\\xe...</td>\n      <td>2</td>\n      <td>[[b'\\xb8\\x93\\xfa\\xc0', b'v_', b''], b'\\x8f\\x19...</td>\n    </tr>\n    <tr>\n      <th>31</th>\n      <td>1.659307e+09</td>\n      <td>167.86.91.152</td>\n      <td>30305</td>\n      <td>b'\\x02G\\xe7\\x87\\x0eV\\xfa\\xcf!\\xd3\\xf1X\\r\\xe7\\x...</td>\n      <td>b'\\x02G\\xe7\\x87\\x0eV\\xfa\\xcf!\\xd3\\xf1X\\r\\xe7\\x...</td>\n      <td>b'\\xb8\\x08\\xf0\\xc7\\xdc\\xb0rD\\x12}/\\xe0\\x94S(\\x...</td>\n      <td>6</td>\n      <td>[b'p0\\xeb\\xbfNB\\x12\\xbb\\xb2.\\xe4\\xf9f\\x90\\xb9\\...</td>\n    </tr>\n  </tbody>\n</table>\n</div>"
     },
     "execution_count": 6,
     "metadata": {},
     "output_type": "execute_result"
    }
   ],
   "source": [
    "my_session.resp_df"
   ],
   "metadata": {
    "collapsed": false,
    "pycharm": {
     "name": "#%%\n"
    }
   }
  }
 ],
 "metadata": {
  "kernelspec": {
   "display_name": "Python 3",
   "language": "python",
   "name": "python3"
  },
  "language_info": {
   "codemirror_mode": {
    "name": "ipython",
    "version": 2
   },
   "file_extension": ".py",
   "mimetype": "text/x-python",
   "name": "python",
   "nbconvert_exporter": "python",
   "pygments_lexer": "ipython2",
   "version": "2.7.6"
  }
 },
 "nbformat": 4,
 "nbformat_minor": 0
}